{
 "cells": [
  {
   "cell_type": "markdown",
   "metadata": {},
   "source": [
    "# v9fs performance studies\n",
    "\n",
    "First thing we need to do is start a qemu with a kernel.  The versions of both of these matter if what we are doing is qemu-virtio as transport (and probably also have an impact on qemu network performance)\n",
    "\n",
    "TODO:\n",
    "- [ ] TASK: add build configuraton for [qemu | kernel | u-root | etc]"
   ]
  },
  {
   "cell_type": "markdown",
   "metadata": {},
   "source": [
    "# Setup Test Environment\n",
    "\n",
    "The following command starts qemu in the background.  You can optionally set the QEMU command line and KERNEL to use as environment variables.\n",
    "You must be setup for kvm and the user must have permission to start kvm instances without sudo (usually by being in group kvm).\n",
    "\n",
    "Okay, so this all works ... but we don't have any nice way to cleanup, so we'll have to work that out at some point."
   ]
  },
  {
   "cell_type": "code",
   "execution_count": 1,
   "metadata": {},
   "outputs": [],
   "source": [
    "QEMU = \"../qemu/build/qemu-system-x86_64\"\n",
    "KERNEL = \"../build/arch/x86_64/boot/bzImage\"\n"
   ]
  },
  {
   "cell_type": "code",
   "execution_count": 10,
   "metadata": {
    "vscode": {
     "languageId": "shellscript"
    }
   },
   "outputs": [
    {
     "name": "stdout",
     "output_type": "stream",
     "text": [
      "qemu-system-x86_64: -netdev user,id=n1,hostfwd=tcp:127.0.0.1:17010-:17010,net=192.168.1.0/24,host=192.168.1.1: Could not set up host forwarding rule 'tcp:127.0.0.1:17010-:17010'\n"
     ]
    }
   ],
   "source": [
    "!sg kvm -c '{QEMU} -kernel \\\n",
    "    {KERNEL} \\\n",
    "\t-cpu  max \\\n",
    "    -s   \\\n",
    "    -enable-kvm \\\n",
    "    -m 8192m \\\n",
    "    -machine q35  \\\n",
    "    -initrd /tmp/initramfs.linux_amd64.cpio \\\n",
    "    -object rng-random,filename=/dev/urandom,id=rng0 \\\n",
    "    -device virtio-rng-pci,rng=rng0 \\\n",
    "    -device vhost-vsock-pci,guest-cid=42 \\\n",
    "    -device virtio-net-pci,netdev=n1 \\\n",
    "    -netdev user,id=n1,hostfwd=tcp:127.0.0.1:17010-:17010,net=192.168.1.0/24,host=192.168.1.1 \\\n",
    "    -debugcon file:debug.log -global isa-debugcon.iobase=0x402 \\\n",
    "    -fsdev local,security_model=passthrough,id=fsdev0,path=/tmp \\\n",
    "    -device virtio-9p-pci,id=fs0,fsdev=fsdev0,mount_tag=hostshare \\\n",
    "    -daemonize'"
   ]
  },
  {
   "cell_type": "markdown",
   "metadata": {},
   "source": [
    "# Run a test\n",
    "\n",
    "Okay, so now we need some simple tests to run in this environment.  We'll do this all over cpu."
   ]
  },
  {
   "cell_type": "code",
   "execution_count": 14,
   "metadata": {
    "vscode": {
     "languageId": "shellscript"
    }
   },
   "outputs": [
    {
     "name": "stdout",
     "output_type": "stream",
     "text": [
      "11.5 MB/s\n",
      "11.3 MB/s\n",
      "11.6 MB/s\n",
      "12.0 MB/s\n",
      "10.5 MB/s\n",
      "1.71 s ± 69.8 ms per loop (mean ± std. dev. of 5 runs, 1 loop each)\n"
     ]
    }
   ],
   "source": [
    "test1 = %timeit -n1 -r5 !cpu -fstab fstab localhost dd if=test of=/mnt/root/test bs=4096 count=4000 2>&1 | tail -1 | awk '{print $(NF-1),$(NF)}'"
   ]
  },
  {
   "cell_type": "code",
   "execution_count": 39,
   "metadata": {},
   "outputs": [],
   "source": [
    "test_list = []\n",
    "\n",
    "for i in range(5):\n",
    "    test2 = !cpu -fstab fstab localhost dd if=test of=/mnt/root/test bs=4096 2>&1 | tail -1 | awk '{print $(NF-1),$(NF)}'\n",
    "    test3 = test2[0].split()\n",
    "    if(test3[1]==\"MB/s\"):\n",
    "        test_list.append(float(test3[0]))\n"
   ]
  },
  {
   "cell_type": "code",
   "execution_count": 49,
   "metadata": {},
   "outputs": [],
   "source": [
    "time_list = []\n",
    "for i in range(2):\n",
    "    result = !cpu -fstab fstab localhost /usr/bin/time -f \"%e\" dd if=test of=/mnt/root/test bs=4096 status=none 2> err\n",
    "    time_list.append(float(result[0]))"
   ]
  },
  {
   "cell_type": "code",
   "execution_count": 54,
   "metadata": {},
   "outputs": [
    {
     "name": "stdout",
     "output_type": "stream",
     "text": [
      "11.053387863380125\n",
      "11.230907457322552\n"
     ]
    }
   ],
   "source": [
    "print(str(1000 / time_list[0]))\n",
    "print(str(1000 / time_list[1]))"
   ]
  },
  {
   "cell_type": "code",
   "execution_count": 40,
   "metadata": {},
   "outputs": [
    {
     "name": "stdout",
     "output_type": "stream",
     "text": [
      "Mean of sample is : 11.9\n",
      "Min of sample is : 11.5\n",
      "Max of sample is : 12.1\n",
      "Variance of sample is : 0.06399999999999997\n",
      "Standard deviation of sample is : 0.2529822128134703\n"
     ]
    }
   ],
   "source": [
    "mean = sum(test_list) / len(test_list)\n",
    "variance = sum([((x - mean) ** 2) for x in test_list]) / len(test_list)\n",
    "res = variance ** 0.5\n",
    "print(\"Mean of sample is : \" + str(mean))\n",
    "print(\"Min of sample is : \" + str(min(test_list)))\n",
    "print(\"Max of sample is : \" + str(max(test_list)))\n",
    "print(\"Variance of sample is : \" + str(variance))\n",
    "print(\"Standard deviation of sample is : \" + str(res))\n",
    "\n",
    "\n"
   ]
  },
  {
   "cell_type": "code",
   "execution_count": 42,
   "metadata": {},
   "outputs": [
    {
     "name": "stdout",
     "output_type": "stream",
     "text": [
      "Hello, Squidboy\n"
     ]
    }
   ],
   "source": [
    "def test(vt):\n",
    "    print(\"Hello, \" + vt)\n",
    "\n",
    "test(\"Squidboy\")"
   ]
  },
  {
   "cell_type": "code",
   "execution_count": 43,
   "metadata": {},
   "outputs": [
    {
     "name": "stdout",
     "output_type": "stream",
     "text": [
      "Hello, World\n"
     ]
    }
   ],
   "source": [
    "test(\"World\")"
   ]
  },
  {
   "cell_type": "code",
   "execution_count": 8,
   "metadata": {},
   "outputs": [],
   "source": [
    "import pandas as pd\n",
    "\n",
    "cf = pd.DataFrame({\n",
    "                    \"a\" : [\"thundercleese\", 6.0],\n",
    "                    \"b\" : [\"thundercleese\", 5.1],\n",
    "                    \"c\" : [\"rpi\", 5.11]\n",
    "                })\n",
    "\n",
    "df = pd.DataFrame({\"a\" : [(\"thundercleese\", 6.0),(\"thundercleese\", 5.11),(\"rpi\", 5.11)],\n",
    "                   \"b\" : [7,8,9],\n",
    "                   \"c\" : [10,11,12]},\n",
    "                   index = [ 1, 2, 3])\n",
    "\n",
    "ef = pd.read_csv(\"test.csv\")"
   ]
  },
  {
   "cell_type": "code",
   "execution_count": 1,
   "metadata": {},
   "outputs": [],
   "source": [
    "%load_ext autoreload\n",
    "%autoreload 2"
   ]
  },
  {
   "cell_type": "code",
   "execution_count": 18,
   "metadata": {},
   "outputs": [
    {
     "data": {
      "text/plain": [
       "b'12.2.0'"
      ]
     },
     "execution_count": 18,
     "metadata": {},
     "output_type": "execute_result"
    }
   ],
   "source": [
    "import subprocess\n",
    "\n",
    "#gcc_proc = subprocess.run(['gcc', '-v'], check=True, stderr=PIPE ).stderr\n",
    "\n",
    "subprocess.check_output(\"gcc -v 2>&1 | tail -1\", shell=True).split()[2]"
   ]
  },
  {
   "cell_type": "code",
   "execution_count": 19,
   "metadata": {},
   "outputs": [
    {
     "data": {
      "text/plain": [
       "b'go1.19.2'"
      ]
     },
     "execution_count": 19,
     "metadata": {},
     "output_type": "execute_result"
    }
   ],
   "source": [
    "subprocess.check_output(\"go version 2>&1\", shell=True).split()[2]"
   ]
  },
  {
   "cell_type": "code",
   "execution_count": 10,
   "metadata": {},
   "outputs": [
    {
     "name": "stdout",
     "output_type": "stream",
     "text": [
      "b''\n"
     ]
    }
   ],
   "source": [
    "print(gcc_vers)"
   ]
  },
  {
   "cell_type": "code",
   "execution_count": 26,
   "metadata": {},
   "outputs": [
    {
     "data": {
      "text/plain": [
       "1669223138.1844015"
      ]
     },
     "execution_count": 26,
     "metadata": {},
     "output_type": "execute_result"
    }
   ],
   "source": [
    "import time\n",
    "time.time()"
   ]
  },
  {
   "cell_type": "code",
   "execution_count": 27,
   "metadata": {},
   "outputs": [
    {
     "data": {
      "text/plain": [
       "'3'"
      ]
     },
     "execution_count": 27,
     "metadata": {},
     "output_type": "execute_result"
    }
   ],
   "source": [
    "subprocess.check_output(\"wc -l configs.csv\", shell=True).decode('utf-8').split()[0]"
   ]
  },
  {
   "cell_type": "code",
   "execution_count": 35,
   "metadata": {},
   "outputs": [
    {
     "name": "stderr",
     "output_type": "stream",
     "text": [
      "2022/11/23 18:25:19 Can not get winsize: inappropriate ioctl for device; assuming 80x40 and non-interactive\n"
     ]
    },
    {
     "ename": "KeyboardInterrupt",
     "evalue": "",
     "output_type": "error",
     "traceback": [
      "\u001b[0;31m---------------------------------------------------------------------------\u001b[0m",
      "\u001b[0;31mKeyboardInterrupt\u001b[0m                         Traceback (most recent call last)",
      "Cell \u001b[0;32mIn [35], line 1\u001b[0m\n\u001b[0;32m----> 1\u001b[0m foo \u001b[39m=\u001b[39m subprocess\u001b[39m.\u001b[39;49mcheck_output(\u001b[39m\"\u001b[39;49m\u001b[39mcpu localhost echo hello\u001b[39;49m\u001b[39m\"\u001b[39;49m, shell\u001b[39m=\u001b[39;49m\u001b[39mTrue\u001b[39;49;00m)\u001b[39m.\u001b[39mdecode(\u001b[39m'\u001b[39m\u001b[39mutf-8\u001b[39m\u001b[39m'\u001b[39m)\n",
      "File \u001b[0;32m/usr/lib/python3.10/subprocess.py:420\u001b[0m, in \u001b[0;36mcheck_output\u001b[0;34m(timeout, *popenargs, **kwargs)\u001b[0m\n\u001b[1;32m    417\u001b[0m         empty \u001b[39m=\u001b[39m \u001b[39mb\u001b[39m\u001b[39m'\u001b[39m\u001b[39m'\u001b[39m\n\u001b[1;32m    418\u001b[0m     kwargs[\u001b[39m'\u001b[39m\u001b[39minput\u001b[39m\u001b[39m'\u001b[39m] \u001b[39m=\u001b[39m empty\n\u001b[0;32m--> 420\u001b[0m \u001b[39mreturn\u001b[39;00m run(\u001b[39m*\u001b[39;49mpopenargs, stdout\u001b[39m=\u001b[39;49mPIPE, timeout\u001b[39m=\u001b[39;49mtimeout, check\u001b[39m=\u001b[39;49m\u001b[39mTrue\u001b[39;49;00m,\n\u001b[1;32m    421\u001b[0m            \u001b[39m*\u001b[39;49m\u001b[39m*\u001b[39;49mkwargs)\u001b[39m.\u001b[39mstdout\n",
      "File \u001b[0;32m/usr/lib/python3.10/subprocess.py:503\u001b[0m, in \u001b[0;36mrun\u001b[0;34m(input, capture_output, timeout, check, *popenargs, **kwargs)\u001b[0m\n\u001b[1;32m    501\u001b[0m \u001b[39mwith\u001b[39;00m Popen(\u001b[39m*\u001b[39mpopenargs, \u001b[39m*\u001b[39m\u001b[39m*\u001b[39mkwargs) \u001b[39mas\u001b[39;00m process:\n\u001b[1;32m    502\u001b[0m     \u001b[39mtry\u001b[39;00m:\n\u001b[0;32m--> 503\u001b[0m         stdout, stderr \u001b[39m=\u001b[39m process\u001b[39m.\u001b[39;49mcommunicate(\u001b[39minput\u001b[39;49m, timeout\u001b[39m=\u001b[39;49mtimeout)\n\u001b[1;32m    504\u001b[0m     \u001b[39mexcept\u001b[39;00m TimeoutExpired \u001b[39mas\u001b[39;00m exc:\n\u001b[1;32m    505\u001b[0m         process\u001b[39m.\u001b[39mkill()\n",
      "File \u001b[0;32m/usr/lib/python3.10/subprocess.py:1139\u001b[0m, in \u001b[0;36mPopen.communicate\u001b[0;34m(self, input, timeout)\u001b[0m\n\u001b[1;32m   1137\u001b[0m     \u001b[39mself\u001b[39m\u001b[39m.\u001b[39m_stdin_write(\u001b[39minput\u001b[39m)\n\u001b[1;32m   1138\u001b[0m \u001b[39melif\u001b[39;00m \u001b[39mself\u001b[39m\u001b[39m.\u001b[39mstdout:\n\u001b[0;32m-> 1139\u001b[0m     stdout \u001b[39m=\u001b[39m \u001b[39mself\u001b[39;49m\u001b[39m.\u001b[39;49mstdout\u001b[39m.\u001b[39;49mread()\n\u001b[1;32m   1140\u001b[0m     \u001b[39mself\u001b[39m\u001b[39m.\u001b[39mstdout\u001b[39m.\u001b[39mclose()\n\u001b[1;32m   1141\u001b[0m \u001b[39melif\u001b[39;00m \u001b[39mself\u001b[39m\u001b[39m.\u001b[39mstderr:\n",
      "\u001b[0;31mKeyboardInterrupt\u001b[0m: "
     ]
    }
   ],
   "source": [
    "foo = subprocess.check_output(\"cpu localhost echo hello\", shell=True).decode('utf-8')"
   ]
  },
  {
   "cell_type": "code",
   "execution_count": 5,
   "metadata": {},
   "outputs": [
    {
     "name": "stdout",
     "output_type": "stream",
     "text": [
      "Squidboy\n",
      "config: alpha blocksize: 512 iteration: 0\n",
      "config: alpha blocksize: 512 iteration: 1\n",
      "config: alpha blocksize: 512 iteration: 2\n",
      "config: alpha blocksize: 512 iteration: 3\n",
      "config: alpha blocksize: 512 iteration: 4\n",
      "config: alpha blocksize: 1024 iteration: 0\n",
      "config: alpha blocksize: 1024 iteration: 1\n",
      "config: alpha blocksize: 1024 iteration: 2\n",
      "config: alpha blocksize: 1024 iteration: 3\n",
      "config: alpha blocksize: 1024 iteration: 4\n",
      "config: alpha blocksize: 4096 iteration: 0\n",
      "config: alpha blocksize: 4096 iteration: 1\n",
      "config: alpha blocksize: 4096 iteration: 2\n",
      "config: alpha blocksize: 4096 iteration: 3\n",
      "config: alpha blocksize: 4096 iteration: 4\n",
      "config: alpha blocksize: 8192 iteration: 0\n",
      "config: alpha blocksize: 8192 iteration: 1\n",
      "config: alpha blocksize: 8192 iteration: 2\n",
      "config: alpha blocksize: 8192 iteration: 3\n",
      "config: alpha blocksize: 8192 iteration: 4\n",
      "config: alpha blocksize: 32768 iteration: 0\n",
      "config: alpha blocksize: 32768 iteration: 1\n",
      "config: alpha blocksize: 32768 iteration: 2\n",
      "config: alpha blocksize: 32768 iteration: 3\n",
      "config: alpha blocksize: 32768 iteration: 4\n",
      "config: alpha blocksize: 65536 iteration: 0\n",
      "config: alpha blocksize: 65536 iteration: 1\n",
      "config: alpha blocksize: 65536 iteration: 2\n",
      "config: alpha blocksize: 65536 iteration: 3\n",
      "config: alpha blocksize: 65536 iteration: 4\n",
      "config: alpha blocksize: 131072 iteration: 0\n",
      "config: alpha blocksize: 131072 iteration: 1\n",
      "config: alpha blocksize: 131072 iteration: 2\n",
      "config: alpha blocksize: 131072 iteration: 3\n",
      "config: alpha blocksize: 131072 iteration: 4\n",
      "config: beta blocksize: 512 iteration: 0\n",
      "config: beta blocksize: 512 iteration: 1\n",
      "config: beta blocksize: 512 iteration: 2\n",
      "config: beta blocksize: 512 iteration: 3\n",
      "config: beta blocksize: 512 iteration: 4\n",
      "config: beta blocksize: 1024 iteration: 0\n",
      "config: beta blocksize: 1024 iteration: 1\n",
      "config: beta blocksize: 1024 iteration: 2\n",
      "config: beta blocksize: 1024 iteration: 3\n",
      "config: beta blocksize: 1024 iteration: 4\n",
      "config: beta blocksize: 4096 iteration: 0\n",
      "config: beta blocksize: 4096 iteration: 1\n",
      "config: beta blocksize: 4096 iteration: 2\n",
      "config: beta blocksize: 4096 iteration: 3\n",
      "config: beta blocksize: 4096 iteration: 4\n",
      "config: beta blocksize: 8192 iteration: 0\n",
      "config: beta blocksize: 8192 iteration: 1\n",
      "config: beta blocksize: 8192 iteration: 2\n",
      "config: beta blocksize: 8192 iteration: 3\n",
      "config: beta blocksize: 8192 iteration: 4\n",
      "config: beta blocksize: 32768 iteration: 0\n",
      "config: beta blocksize: 32768 iteration: 1\n",
      "config: beta blocksize: 32768 iteration: 2\n",
      "config: beta blocksize: 32768 iteration: 3\n",
      "config: beta blocksize: 32768 iteration: 4\n",
      "config: beta blocksize: 65536 iteration: 0\n",
      "config: beta blocksize: 65536 iteration: 1\n",
      "config: beta blocksize: 65536 iteration: 2\n",
      "config: beta blocksize: 65536 iteration: 3\n",
      "config: beta blocksize: 65536 iteration: 4\n",
      "config: beta blocksize: 131072 iteration: 0\n",
      "config: beta blocksize: 131072 iteration: 1\n",
      "config: beta blocksize: 131072 iteration: 2\n",
      "config: beta blocksize: 131072 iteration: 3\n",
      "config: beta blocksize: 131072 iteration: 4\n",
      "config: delta blocksize: 512 iteration: 0\n",
      "config: delta blocksize: 512 iteration: 1\n",
      "config: delta blocksize: 512 iteration: 2\n",
      "config: delta blocksize: 512 iteration: 3\n",
      "config: delta blocksize: 512 iteration: 4\n",
      "config: delta blocksize: 1024 iteration: 0\n",
      "config: delta blocksize: 1024 iteration: 1\n",
      "config: delta blocksize: 1024 iteration: 2\n",
      "config: delta blocksize: 1024 iteration: 3\n",
      "config: delta blocksize: 1024 iteration: 4\n",
      "config: delta blocksize: 4096 iteration: 0\n",
      "config: delta blocksize: 4096 iteration: 1\n",
      "config: delta blocksize: 4096 iteration: 2\n",
      "config: delta blocksize: 4096 iteration: 3\n",
      "config: delta blocksize: 4096 iteration: 4\n",
      "config: delta blocksize: 8192 iteration: 0\n",
      "config: delta blocksize: 8192 iteration: 1\n",
      "config: delta blocksize: 8192 iteration: 2\n",
      "config: delta blocksize: 8192 iteration: 3\n",
      "config: delta blocksize: 8192 iteration: 4\n",
      "config: delta blocksize: 32768 iteration: 0\n",
      "config: delta blocksize: 32768 iteration: 1\n",
      "config: delta blocksize: 32768 iteration: 2\n",
      "config: delta blocksize: 32768 iteration: 3\n",
      "config: delta blocksize: 32768 iteration: 4\n",
      "config: delta blocksize: 65536 iteration: 0\n",
      "config: delta blocksize: 65536 iteration: 1\n",
      "config: delta blocksize: 65536 iteration: 2\n",
      "config: delta blocksize: 65536 iteration: 3\n",
      "config: delta blocksize: 65536 iteration: 4\n",
      "config: delta blocksize: 131072 iteration: 0\n",
      "config: delta blocksize: 131072 iteration: 1\n",
      "config: delta blocksize: 131072 iteration: 2\n",
      "config: delta blocksize: 131072 iteration: 3\n",
      "config: delta blocksize: 131072 iteration: 4\n"
     ]
    }
   ],
   "source": [
    "import bench\n",
    "\n",
    "configs = [ 'alpha', 'beta', 'delta']\n",
    "blocksizes = [ 512, 1024, 4096, 8192, 32768, 65536, 131072 ]\n",
    "iterations = 5\n",
    "\n",
    "bench.run( configs, blocksizes, iterations, \"Squidboy\")\n"
   ]
  },
  {
   "cell_type": "code",
   "execution_count": 2,
   "metadata": {},
   "outputs": [
    {
     "name": "stderr",
     "output_type": "stream",
     "text": [
      "2nd loop: 100%|██████████| 100/100 [00:01<00:00, 97.54it/s]\n",
      "2nd loop: 100%|██████████| 100/100 [00:01<00:00, 97.56it/s]\n",
      "2nd loop: 100%|██████████| 100/100 [00:01<00:00, 97.56it/s]\n",
      "1st loop: 100%|██████████| 3/3 [00:03<00:00,  1.03s/it]\n"
     ]
    }
   ],
   "source": [
    "from tqdm import trange, tqdm\n",
    "from time import sleep\n",
    "\n",
    "for i in trange(3, desc='1st loop'):\n",
    "    for j in tqdm(range(100), desc='2nd loop'):\n",
    "        sleep(0.01)"
   ]
  },
  {
   "cell_type": "markdown",
   "metadata": {},
   "source": [
    "So I could go with that, and that seems useful. Need to think about"
   ]
  }
 ],
 "metadata": {
  "kernelspec": {
   "display_name": "Python 3.10.7 64-bit",
   "language": "python",
   "name": "python3"
  },
  "language_info": {
   "codemirror_mode": {
    "name": "ipython",
    "version": 3
   },
   "file_extension": ".py",
   "mimetype": "text/x-python",
   "name": "python",
   "nbconvert_exporter": "python",
   "pygments_lexer": "ipython3",
   "version": "3.10.7"
  },
  "orig_nbformat": 4,
  "vscode": {
   "interpreter": {
    "hash": "767d51c1340bd893661ea55ea3124f6de3c7a262a8b4abca0554b478b1e2ff90"
   }
  }
 },
 "nbformat": 4,
 "nbformat_minor": 2
}
